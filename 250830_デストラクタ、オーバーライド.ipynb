{
  "nbformat": 4,
  "nbformat_minor": 0,
  "metadata": {
    "colab": {
      "provenance": [],
      "authorship_tag": "ABX9TyPeaiX6KL2cKdDe+AA49MAv"
    },
    "kernelspec": {
      "name": "python3",
      "display_name": "Python 3"
    },
    "language_info": {
      "name": "python"
    }
  },
  "cells": [
    {
      "cell_type": "code",
      "source": [
        "class Person(object):\n",
        "  def __init__(self, name):\n",
        "    self.name = name\n",
        "\n",
        "  def __del__(self):\n",
        "    print('Good bye')\n",
        "\n",
        "person = Person('Bob')\n",
        "print(person.name)"
      ],
      "metadata": {
        "colab": {
          "base_uri": "https://localhost:8080/"
        },
        "id": "C2wVHIPLgrPq",
        "outputId": "69f37b47-ebfd-4124-d0d7-e6a5d4a16256"
      },
      "execution_count": 4,
      "outputs": [
        {
          "output_type": "stream",
          "name": "stdout",
          "text": [
            "Bob\n"
          ]
        }
      ]
    },
    {
      "cell_type": "markdown",
      "source": [
        "### デストラクタが呼び出されないのはなぜ？\n",
        "デストラクタを確実に呼びたい場合はdel文を使うか、明示的にクリーンアップメソッドを呼び出しましょう！"
      ],
      "metadata": {
        "id": "0WBtYftahw8i"
      }
    },
    {
      "cell_type": "code",
      "source": [
        "class Person(object):\n",
        "  def __init__(self, name):\n",
        "    self.name = name\n",
        "\n",
        "  def __del__(self):\n",
        "    print('Good bye')\n",
        "\n",
        "person = Person('Bob')\n",
        "del person"
      ],
      "metadata": {
        "colab": {
          "base_uri": "https://localhost:8080/"
        },
        "id": "fWjeIzCjhVe-",
        "outputId": "cc24032a-f81c-458f-b6ab-7823be44a23b"
      },
      "execution_count": 5,
      "outputs": [
        {
          "output_type": "stream",
          "name": "stdout",
          "text": [
            "Good bye\n"
          ]
        }
      ]
    },
    {
      "cell_type": "markdown",
      "source": [
        "### 継承の基本"
      ],
      "metadata": {
        "id": "nmkGTihqiHVK"
      }
    },
    {
      "cell_type": "code",
      "source": [
        "class Car(object):\n",
        "  pass\n",
        "\n",
        "class MyCar(Car):\n",
        "  pass"
      ],
      "metadata": {
        "id": "x_0UU54kh6SI"
      },
      "execution_count": 7,
      "outputs": []
    },
    {
      "cell_type": "code",
      "source": [
        "class Car(object):\n",
        "  def run(self):\n",
        "    print('run')\n",
        "\n",
        "class MyCar(Car):\n",
        "  pass\n",
        "\n",
        "car = Car()\n",
        "car.run()\n",
        "\n",
        "car2 = MyCar()\n",
        "car2.run()"
      ],
      "metadata": {
        "colab": {
          "base_uri": "https://localhost:8080/"
        },
        "id": "SugrHK1bh_-w",
        "outputId": "29703928-d17e-468d-fec3-f133c25638c8"
      },
      "execution_count": 8,
      "outputs": [
        {
          "output_type": "stream",
          "name": "stdout",
          "text": [
            "run\n",
            "run\n"
          ]
        }
      ]
    },
    {
      "cell_type": "code",
      "source": [
        "class Car(object):\n",
        "  def run(self):\n",
        "    print('run')\n",
        "\n",
        "class AdvancedCar(Car):\n",
        "  def fast_run(self):\n",
        "    print('fast')\n",
        "\n",
        "car = Car()\n",
        "car.run()\n",
        "\n",
        "car2 = AdvancedCar()\n",
        "car2.fast_run()\n",
        "car2.run()"
      ],
      "metadata": {
        "colab": {
          "base_uri": "https://localhost:8080/"
        },
        "id": "PxizxW9riflb",
        "outputId": "2e4406f6-7441-46e5-d009-6e04ff72c48e"
      },
      "execution_count": 11,
      "outputs": [
        {
          "output_type": "stream",
          "name": "stdout",
          "text": [
            "run\n",
            "fast\n",
            "run\n"
          ]
        }
      ]
    },
    {
      "cell_type": "markdown",
      "source": [
        "### オーバーライドする\n",
        "継承元の同じ名前のメソッドを書き換えることができる"
      ],
      "metadata": {
        "id": "G3IWV6P1i8ft"
      }
    },
    {
      "cell_type": "code",
      "source": [
        "class Car(object):\n",
        "  def run(self):\n",
        "    print('run')\n",
        "\n",
        "class AdvancedCar(Car):\n",
        "  def run(self):\n",
        "    print('super_fast')\n",
        "\n",
        "car = Car()\n",
        "car.run()\n",
        "\n",
        "car2 = AdvancedCar()\n",
        "car2.run()"
      ],
      "metadata": {
        "colab": {
          "base_uri": "https://localhost:8080/"
        },
        "id": "34gxsKZnisSQ",
        "outputId": "dd3a947c-36d3-4a06-9c1d-9b43d7208509"
      },
      "execution_count": 12,
      "outputs": [
        {
          "output_type": "stream",
          "name": "stdout",
          "text": [
            "run\n",
            "super_fast\n"
          ]
        }
      ]
    },
    {
      "cell_type": "code",
      "source": [],
      "metadata": {
        "id": "pezFRQT1jEi5"
      },
      "execution_count": null,
      "outputs": []
    }
  ]
}