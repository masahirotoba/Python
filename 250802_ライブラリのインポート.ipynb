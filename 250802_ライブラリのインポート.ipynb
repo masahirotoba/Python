{
  "nbformat": 4,
  "nbformat_minor": 0,
  "metadata": {
    "colab": {
      "provenance": [],
      "mount_file_id": "1aCSMgewn7EbEYRh2SeiyXiBxv61O58RK",
      "authorship_tag": "ABX9TyO74C6502I8ns8f39vcJcmD"
    },
    "kernelspec": {
      "name": "python3",
      "display_name": "Python 3"
    },
    "language_info": {
      "name": "python"
    }
  },
  "cells": [
    {
      "cell_type": "code",
      "source": [
        "import math\n",
        "\n",
        "r2 = math.sqrt(2)\n",
        "\n",
        "print(r2)"
      ],
      "metadata": {
        "id": "fG14saTHZB1x"
      },
      "execution_count": null,
      "outputs": []
    },
    {
      "cell_type": "markdown",
      "source": [
        "### 単体でインポートする"
      ],
      "metadata": {
        "id": "6TElpYPUaspi"
      }
    },
    {
      "cell_type": "code",
      "source": [
        "from math import sqrt\n",
        "\n",
        "r2 = sqrt(2)\n",
        "\n",
        "print(r2)"
      ],
      "metadata": {
        "id": "c7ZEHX2Da8TU"
      },
      "execution_count": null,
      "outputs": []
    },
    {
      "cell_type": "code",
      "source": [
        "import numpy as np\n",
        "\n",
        "x = np.linspace(0, 2, 11)\n",
        "\n",
        "print(x)\n",
        "\n",
        "y = np.sqrt(x)\n",
        "\n",
        "print(y)"
      ],
      "metadata": {
        "colab": {
          "base_uri": "https://localhost:8080/"
        },
        "id": "9EFheud8bBbi",
        "outputId": "e9100316-16a3-43b8-c952-3a2cf89f228b"
      },
      "execution_count": 3,
      "outputs": [
        {
          "output_type": "stream",
          "name": "stdout",
          "text": [
            "[0.  0.2 0.4 0.6 0.8 1.  1.2 1.4 1.6 1.8 2. ]\n",
            "[0.         0.4472136  0.63245553 0.77459667 0.89442719 1.\n",
            " 1.09544512 1.18321596 1.26491106 1.34164079 1.41421356]\n"
          ]
        }
      ]
    },
    {
      "cell_type": "code",
      "source": [
        "import numpy\n",
        "print(numpy.__version__)"
      ],
      "metadata": {
        "colab": {
          "base_uri": "https://localhost:8080/"
        },
        "id": "ZynMStbZbYHU",
        "outputId": "b564008d-eda7-4927-fdc2-1724e54495cc"
      },
      "execution_count": 4,
      "outputs": [
        {
          "output_type": "stream",
          "name": "stdout",
          "text": [
            "2.0.2\n"
          ]
        }
      ]
    },
    {
      "cell_type": "markdown",
      "source": [
        "### pipコマンドでインストール"
      ],
      "metadata": {
        "id": "5XT_rWZAbUKK"
      }
    },
    {
      "cell_type": "code",
      "source": [
        "!pip install japanize-matplotlib | tail -n 1\n",
        "\n",
        "import japanize_matplotlib"
      ],
      "metadata": {
        "colab": {
          "base_uri": "https://localhost:8080/"
        },
        "id": "-XV08UZwbSqI",
        "outputId": "aa5b7943-4d94-46e2-e8cc-00f07c6828de"
      },
      "execution_count": 6,
      "outputs": [
        {
          "output_type": "stream",
          "name": "stdout",
          "text": [
            "Successfully installed japanize-matplotlib-1.1.3\n"
          ]
        }
      ]
    },
    {
      "cell_type": "code",
      "source": [],
      "metadata": {
        "id": "7q_DoicvbQDH"
      },
      "execution_count": null,
      "outputs": []
    }
  ]
}