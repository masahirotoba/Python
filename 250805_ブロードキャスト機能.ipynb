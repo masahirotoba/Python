{
  "nbformat": 4,
  "nbformat_minor": 0,
  "metadata": {
    "colab": {
      "provenance": [],
      "mount_file_id": "1aCSMgewn7EbEYRh2SeiyXiBxv61O58RK",
      "authorship_tag": "ABX9TyOFGpVQ8iP7N5FtU+Wzm+kj"
    },
    "kernelspec": {
      "name": "python3",
      "display_name": "Python 3"
    },
    "language_info": {
      "name": "python"
    }
  },
  "cells": [
    {
      "cell_type": "markdown",
      "source": [
        "### Numpyの演算"
      ],
      "metadata": {
        "id": "RsMRxGeVYSwp"
      }
    },
    {
      "cell_type": "code",
      "source": [
        "import numpy as np\n",
        "\n",
        "n2 = np.array([\n",
        "    [1,2,3,4],\n",
        "    [5,6,7,8],\n",
        "    [9,10,11,12]\n",
        "])\n",
        "\n",
        "n10 = np.array([\n",
        "    [1,4,7,10],\n",
        "    [2,5,8,11],\n",
        "    [3,6,9,12]\n",
        "])\n",
        "\n",
        "print(n2)\n",
        "print(n10)"
      ],
      "metadata": {
        "colab": {
          "base_uri": "https://localhost:8080/"
        },
        "id": "hNOBujahYVcP",
        "outputId": "69102100-e685-48f0-a0b0-ed38397422d6"
      },
      "execution_count": 1,
      "outputs": [
        {
          "output_type": "stream",
          "name": "stdout",
          "text": [
            "[[ 1  2  3  4]\n",
            " [ 5  6  7  8]\n",
            " [ 9 10 11 12]]\n",
            "[[ 1  4  7 10]\n",
            " [ 2  5  8 11]\n",
            " [ 3  6  9 12]]\n"
          ]
        }
      ]
    },
    {
      "cell_type": "markdown",
      "source": [
        "### numpyの配列は、([ ])で囲むんですね\n",
        "→np.array([ ]) の外側の括弧がNumPy関数の引数、内側の括弧が各行のデータを表しています"
      ],
      "metadata": {
        "id": "Cq2itjzDYwiP"
      }
    },
    {
      "cell_type": "markdown",
      "source": [
        "### 標準偏差を求めてみる\n",
        "（朝の散歩の途中に調べた）"
      ],
      "metadata": {
        "id": "23jZbnm7Y5X6"
      }
    },
    {
      "cell_type": "code",
      "source": [
        "data = [100, 200, 300, 400, 500]\n",
        "\n",
        "std = np.std(data)\n",
        "print(std)"
      ],
      "metadata": {
        "colab": {
          "base_uri": "https://localhost:8080/"
        },
        "id": "p_KPzW6WY-Aq",
        "outputId": "ba6fb11b-0024-4795-9b54-1fb90e7018de"
      },
      "execution_count": 2,
      "outputs": [
        {
          "output_type": "stream",
          "name": "stdout",
          "text": [
            "141.4213562373095\n"
          ]
        }
      ]
    },
    {
      "cell_type": "code",
      "source": [
        "n11 = n2 + n10\n",
        "print(n11)"
      ],
      "metadata": {
        "colab": {
          "base_uri": "https://localhost:8080/"
        },
        "id": "kFcLvb-DZaRf",
        "outputId": "3fca8c81-a7b1-414c-eb0d-e8675b046700"
      },
      "execution_count": 3,
      "outputs": [
        {
          "output_type": "stream",
          "name": "stdout",
          "text": [
            "[[ 2  6 10 14]\n",
            " [ 7 11 15 19]\n",
            " [12 16 20 24]]\n"
          ]
        }
      ]
    },
    {
      "cell_type": "markdown",
      "source": [
        "### 揃っていなくても計算できるか\n",
        "NumPyでは同じ形状の配列でないと算術演算ができません。サイズを揃えるか、部分的な計算を行う必要があります。"
      ],
      "metadata": {
        "id": "KmkTo-QvZl4I"
      }
    },
    {
      "cell_type": "code",
      "source": [
        "n00 = np.array([1,2,3,4,5])\n",
        "n01 = np.array([1,2,3])\n",
        "\n",
        "print(n00 + n01)"
      ],
      "metadata": {
        "colab": {
          "base_uri": "https://localhost:8080/",
          "height": 182
        },
        "id": "h2Xcqm8yZs6T",
        "outputId": "cbad3166-98d4-497d-ec6a-efbcdab513ee"
      },
      "execution_count": 4,
      "outputs": [
        {
          "output_type": "error",
          "ename": "ValueError",
          "evalue": "operands could not be broadcast together with shapes (5,) (3,) ",
          "traceback": [
            "\u001b[0;31m---------------------------------------------------------------------------\u001b[0m",
            "\u001b[0;31mValueError\u001b[0m                                Traceback (most recent call last)",
            "\u001b[0;32m/tmp/ipython-input-2391914177.py\u001b[0m in \u001b[0;36m<cell line: 0>\u001b[0;34m()\u001b[0m\n\u001b[1;32m      2\u001b[0m \u001b[0mn01\u001b[0m \u001b[0;34m=\u001b[0m \u001b[0mnp\u001b[0m\u001b[0;34m.\u001b[0m\u001b[0marray\u001b[0m\u001b[0;34m(\u001b[0m\u001b[0;34m[\u001b[0m\u001b[0;36m1\u001b[0m\u001b[0;34m,\u001b[0m\u001b[0;36m2\u001b[0m\u001b[0;34m,\u001b[0m\u001b[0;36m3\u001b[0m\u001b[0;34m]\u001b[0m\u001b[0;34m)\u001b[0m\u001b[0;34m\u001b[0m\u001b[0;34m\u001b[0m\u001b[0m\n\u001b[1;32m      3\u001b[0m \u001b[0;34m\u001b[0m\u001b[0m\n\u001b[0;32m----> 4\u001b[0;31m \u001b[0mprint\u001b[0m\u001b[0;34m(\u001b[0m\u001b[0mn00\u001b[0m \u001b[0;34m+\u001b[0m \u001b[0mn01\u001b[0m\u001b[0;34m)\u001b[0m\u001b[0;34m\u001b[0m\u001b[0;34m\u001b[0m\u001b[0m\n\u001b[0m",
            "\u001b[0;31mValueError\u001b[0m: operands could not be broadcast together with shapes (5,) (3,) "
          ]
        }
      ]
    },
    {
      "cell_type": "markdown",
      "source": [
        "### ブロードキャスト機能\n",
        "→NumPyで異なるサイズの配列同士でも計算を可能にする仕組み\n",
        "（配列の各要素に対して同じ計算を行うため）"
      ],
      "metadata": {
        "id": "qWaMmtKAaBe7"
      }
    },
    {
      "cell_type": "code",
      "source": [
        "n00 = np.array([1,2,3,4])\n",
        "num = 10\n",
        "\n",
        "print(n00 + num)"
      ],
      "metadata": {
        "colab": {
          "base_uri": "https://localhost:8080/"
        },
        "id": "Mp8wdoC8aP99",
        "outputId": "00b9ccda-014c-4163-cf4d-3e5f19b7f094"
      },
      "execution_count": 5,
      "outputs": [
        {
          "output_type": "stream",
          "name": "stdout",
          "text": [
            "[11 12 13 14]\n"
          ]
        }
      ]
    },
    {
      "cell_type": "code",
      "source": [
        "n00 = np.array([\n",
        "    [1,2,3,4],\n",
        "    [5,6,7,8]\n",
        "])\n",
        "\n",
        "n01 = np.array([10,10,30,40])\n",
        "\n",
        "print(n00 + n01)"
      ],
      "metadata": {
        "colab": {
          "base_uri": "https://localhost:8080/"
        },
        "id": "yp5UvE3harkQ",
        "outputId": "662299b5-8088-4f1b-9570-fe550381dde5"
      },
      "execution_count": 7,
      "outputs": [
        {
          "output_type": "stream",
          "name": "stdout",
          "text": [
            "[[11 12 33 44]\n",
            " [15 16 37 48]]\n"
          ]
        }
      ]
    },
    {
      "cell_type": "markdown",
      "source": [
        "### サイズが合わないモノは計算できないので注意"
      ],
      "metadata": {
        "id": "G1u9LtJ2bEly"
      }
    },
    {
      "cell_type": "code",
      "source": [
        "n1 = np.array([1,7,5,2])\n",
        "\n",
        "print(n1)"
      ],
      "metadata": {
        "colab": {
          "base_uri": "https://localhost:8080/"
        },
        "id": "6FwLmoHSbQm2",
        "outputId": "eb49f308-ca33-4640-e20c-2af071fd6bea"
      },
      "execution_count": 8,
      "outputs": [
        {
          "output_type": "stream",
          "name": "stdout",
          "text": [
            "[1 7 5 2]\n"
          ]
        }
      ]
    },
    {
      "cell_type": "code",
      "source": [
        "print(n1-4)"
      ],
      "metadata": {
        "colab": {
          "base_uri": "https://localhost:8080/"
        },
        "id": "kcRsF23zbYxh",
        "outputId": "b027a039-d18a-4e83-dc8f-f08eaaae94eb"
      },
      "execution_count": 9,
      "outputs": [
        {
          "output_type": "stream",
          "name": "stdout",
          "text": [
            "[-3  3  1 -2]\n"
          ]
        }
      ]
    },
    {
      "cell_type": "code",
      "source": [
        "n2= np.array([\n",
        "    [1,2,3,4],\n",
        "    [5,6,7,8],\n",
        "    [9,10,11,12]\n",
        "])\n",
        "\n",
        "print(n2-2)"
      ],
      "metadata": {
        "colab": {
          "base_uri": "https://localhost:8080/"
        },
        "id": "OZvW3Qthbbo1",
        "outputId": "39ba1381-5f59-47c1-f1ed-07dd01a25fae"
      },
      "execution_count": 11,
      "outputs": [
        {
          "output_type": "stream",
          "name": "stdout",
          "text": [
            "[[-1  0  1  2]\n",
            " [ 3  4  5  6]\n",
            " [ 7  8  9 10]]\n"
          ]
        }
      ]
    },
    {
      "cell_type": "markdown",
      "source": [
        "### 集約関数"
      ],
      "metadata": {
        "id": "cRC2irvvbm0M"
      }
    },
    {
      "cell_type": "code",
      "source": [
        "n2 = np.array([\n",
        "    [1,2,3,4],\n",
        "    [5,6,7,8],\n",
        "    [9,10,11,12]\n",
        "])\n",
        "\n",
        "print(n2.sum())"
      ],
      "metadata": {
        "colab": {
          "base_uri": "https://localhost:8080/"
        },
        "id": "VdrcJBl5bt1A",
        "outputId": "55d02011-a4c6-48ec-baaa-3aa5a5cc3dd0"
      },
      "execution_count": 13,
      "outputs": [
        {
          "output_type": "stream",
          "name": "stdout",
          "text": [
            "78\n"
          ]
        }
      ]
    },
    {
      "cell_type": "markdown",
      "source": [
        "### 行方向と列方向に集約する"
      ],
      "metadata": {
        "id": "QxX9kGzTcATw"
      }
    },
    {
      "cell_type": "code",
      "source": [
        "print(n2.sum(axis=0))\n",
        "print(n2.sum(axis=1))"
      ],
      "metadata": {
        "colab": {
          "base_uri": "https://localhost:8080/"
        },
        "id": "9SlkgCTAb0NO",
        "outputId": "5cd68768-c2aa-4cbf-f82f-2cde2543b8ff"
      },
      "execution_count": 14,
      "outputs": [
        {
          "output_type": "stream",
          "name": "stdout",
          "text": [
            "[15 18 21 24]\n",
            "[10 26 42]\n"
          ]
        }
      ]
    }
  ]
}