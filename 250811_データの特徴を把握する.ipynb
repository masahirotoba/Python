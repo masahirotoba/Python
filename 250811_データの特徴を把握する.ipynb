{
  "nbformat": 4,
  "nbformat_minor": 0,
  "metadata": {
    "colab": {
      "provenance": [],
      "mount_file_id": "1aCSMgewn7EbEYRh2SeiyXiBxv61O58RK",
      "authorship_tag": "ABX9TyMrk3ZPuaiHhMI9NM/P4Qsv"
    },
    "kernelspec": {
      "name": "python3",
      "display_name": "Python 3"
    },
    "language_info": {
      "name": "python"
    }
  },
  "cells": [
    {
      "cell_type": "markdown",
      "source": [
        "# ライブラリをインポート"
      ],
      "metadata": {
        "id": "4ixN6_A5m6oS"
      }
    },
    {
      "cell_type": "code",
      "source": [
        "import pandas as pd\n",
        "import matplotlib.pyplot as plt\n",
        "from sklearn.datasets import load_iris\n",
        "import numpy as np"
      ],
      "metadata": {
        "id": "vcghiy6pm4ID"
      },
      "execution_count": 7,
      "outputs": []
    },
    {
      "cell_type": "markdown",
      "source": [
        "# irisデータセットを準備"
      ],
      "metadata": {
        "id": "Zaent3oSm9hc"
      }
    },
    {
      "cell_type": "code",
      "source": [
        "# load_iris()関数で、iris という変数に格納\n",
        "iris = load_iris()\n",
        "\n",
        "# NumPy配列 を DataFrame に格納\n",
        "df = pd.DataFrame(iris.data, columns=iris.feature_names)\n",
        "\n",
        "# 数値コード（0,1,2）を品種名（setosa, versicolor, virginica）に変換\n",
        "df['species'] = iris.target_names[iris.target]"
      ],
      "metadata": {
        "id": "qXP_LmYlnAfD"
      },
      "execution_count": 9,
      "outputs": []
    },
    {
      "cell_type": "markdown",
      "source": [
        "# Dateframeの中身を確認（最初の5行）"
      ],
      "metadata": {
        "id": "ZiQKIbtBpCvj"
      }
    },
    {
      "cell_type": "code",
      "source": [
        "print(df[:5])"
      ],
      "metadata": {
        "colab": {
          "base_uri": "https://localhost:8080/"
        },
        "id": "QoJF3k_bpFSA",
        "outputId": "3c5028dc-f01b-4a83-a467-9ba105504a72"
      },
      "execution_count": 11,
      "outputs": [
        {
          "output_type": "stream",
          "name": "stdout",
          "text": [
            "   sepal length (cm)  sepal width (cm)  petal length (cm)  petal width (cm)  \\\n",
            "0                5.1               3.5                1.4               0.2   \n",
            "1                4.9               3.0                1.4               0.2   \n",
            "2                4.7               3.2                1.3               0.2   \n",
            "3                4.6               3.1                1.5               0.2   \n",
            "4                5.0               3.6                1.4               0.2   \n",
            "\n",
            "  species  \n",
            "0  setosa  \n",
            "1  setosa  \n",
            "2  setosa  \n",
            "3  setosa  \n",
            "4  setosa  \n"
          ]
        }
      ]
    },
    {
      "cell_type": "markdown",
      "source": [
        "# 基本統計量"
      ],
      "metadata": {
        "id": "UQKHTEI8nDOQ"
      }
    },
    {
      "cell_type": "code",
      "source": [
        "print(df.describe())"
      ],
      "metadata": {
        "colab": {
          "base_uri": "https://localhost:8080/"
        },
        "id": "obT2dA2unFZp",
        "outputId": "08c16b59-88c9-4dd6-885b-08a41241238a"
      },
      "execution_count": 6,
      "outputs": [
        {
          "output_type": "stream",
          "name": "stdout",
          "text": [
            "       sepal length (cm)  sepal width (cm)  petal length (cm)  \\\n",
            "count         150.000000        150.000000         150.000000   \n",
            "mean            5.843333          3.057333           3.758000   \n",
            "std             0.828066          0.435866           1.765298   \n",
            "min             4.300000          2.000000           1.000000   \n",
            "25%             5.100000          2.800000           1.600000   \n",
            "50%             5.800000          3.000000           4.350000   \n",
            "75%             6.400000          3.300000           5.100000   \n",
            "max             7.900000          4.400000           6.900000   \n",
            "\n",
            "       petal width (cm)  \n",
            "count        150.000000  \n",
            "mean           1.199333  \n",
            "std            0.762238  \n",
            "min            0.100000  \n",
            "25%            0.300000  \n",
            "50%            1.300000  \n",
            "75%            1.800000  \n",
            "max            2.500000  \n"
          ]
        }
      ]
    },
    {
      "cell_type": "markdown",
      "source": [
        "# 度数分布表を出力（Series（1次元データ）が出力される）"
      ],
      "metadata": {
        "id": "Ue5hFpfGnIT3"
      }
    },
    {
      "cell_type": "code",
      "source": [
        "# 花弁の長さを5つの区間に分けて 度数分布表\n",
        "print(pd.cut(df['petal length (cm)'], bins=5).value_counts())\n",
        "\n",
        "# 各値が何個ずつあるかを数える関数\n",
        "# value_counts()\n",
        "\n",
        "# 花弁の長さを5つの区間に分ける\n",
        "# cut(df['petal length (cm)'], bins=5)"
      ],
      "metadata": {
        "colab": {
          "base_uri": "https://localhost:8080/"
        },
        "id": "onAbLcvQnN33",
        "outputId": "634a9a7b-30d7-4412-91de-6173d2764971"
      },
      "execution_count": 26,
      "outputs": [
        {
          "output_type": "stream",
          "name": "stdout",
          "text": [
            "petal length (cm)\n",
            "(0.994, 2.18]    50\n",
            "(4.54, 5.72]     47\n",
            "(3.36, 4.54]     34\n",
            "(5.72, 6.9]      16\n",
            "(2.18, 3.36]      3\n",
            "Name: count, dtype: int64\n"
          ]
        }
      ]
    },
    {
      "cell_type": "markdown",
      "source": [
        "# Dataframeに変換する"
      ],
      "metadata": {
        "id": "oGbKNtWxqnr5"
      }
    },
    {
      "cell_type": "code",
      "source": [
        "freq_df = pd.cut(df['petal length (cm)'], bins=5).value_counts().sort_index().to_frame()\n",
        "print(freq_df)"
      ],
      "metadata": {
        "colab": {
          "base_uri": "https://localhost:8080/"
        },
        "id": "d3OxBjQ3rmCV",
        "outputId": "6693b494-5d00-4fb5-b601-2512b71d8648"
      },
      "execution_count": 24,
      "outputs": [
        {
          "output_type": "stream",
          "name": "stdout",
          "text": [
            "                   count\n",
            "petal length (cm)       \n",
            "(0.994, 2.18]         50\n",
            "(2.18, 3.36]           3\n",
            "(3.36, 4.54]          34\n",
            "(4.54, 5.72]          47\n",
            "(5.72, 6.9]           16\n"
          ]
        }
      ]
    },
    {
      "cell_type": "markdown",
      "source": [
        "# ヒストグラムを作成"
      ],
      "metadata": {
        "id": "UgHferQKsyxc"
      }
    },
    {
      "cell_type": "code",
      "source": [
        "freq_df.plot(kind='bar')\n",
        "plt.title('花弁の長さの度数分布')\n",
        "plt.show()"
      ],
      "metadata": {
        "colab": {
          "base_uri": "https://localhost:8080/",
          "height": 875
        },
        "id": "y5xOeRQZtSck",
        "outputId": "fe8417d4-fbcc-4196-b0e3-15933fd7d5c7"
      },
      "execution_count": 28,
      "outputs": [
        {
          "output_type": "stream",
          "name": "stderr",
          "text": [
            "/usr/local/lib/python3.11/dist-packages/IPython/core/pylabtools.py:151: UserWarning: Glyph 33457 (\\N{CJK UNIFIED IDEOGRAPH-82B1}) missing from font(s) DejaVu Sans.\n",
            "  fig.canvas.print_figure(bytes_io, **kw)\n",
            "/usr/local/lib/python3.11/dist-packages/IPython/core/pylabtools.py:151: UserWarning: Glyph 24321 (\\N{CJK UNIFIED IDEOGRAPH-5F01}) missing from font(s) DejaVu Sans.\n",
            "  fig.canvas.print_figure(bytes_io, **kw)\n",
            "/usr/local/lib/python3.11/dist-packages/IPython/core/pylabtools.py:151: UserWarning: Glyph 12398 (\\N{HIRAGANA LETTER NO}) missing from font(s) DejaVu Sans.\n",
            "  fig.canvas.print_figure(bytes_io, **kw)\n",
            "/usr/local/lib/python3.11/dist-packages/IPython/core/pylabtools.py:151: UserWarning: Glyph 38263 (\\N{CJK UNIFIED IDEOGRAPH-9577}) missing from font(s) DejaVu Sans.\n",
            "  fig.canvas.print_figure(bytes_io, **kw)\n",
            "/usr/local/lib/python3.11/dist-packages/IPython/core/pylabtools.py:151: UserWarning: Glyph 12373 (\\N{HIRAGANA LETTER SA}) missing from font(s) DejaVu Sans.\n",
            "  fig.canvas.print_figure(bytes_io, **kw)\n",
            "/usr/local/lib/python3.11/dist-packages/IPython/core/pylabtools.py:151: UserWarning: Glyph 24230 (\\N{CJK UNIFIED IDEOGRAPH-5EA6}) missing from font(s) DejaVu Sans.\n",
            "  fig.canvas.print_figure(bytes_io, **kw)\n",
            "/usr/local/lib/python3.11/dist-packages/IPython/core/pylabtools.py:151: UserWarning: Glyph 25968 (\\N{CJK UNIFIED IDEOGRAPH-6570}) missing from font(s) DejaVu Sans.\n",
            "  fig.canvas.print_figure(bytes_io, **kw)\n",
            "/usr/local/lib/python3.11/dist-packages/IPython/core/pylabtools.py:151: UserWarning: Glyph 20998 (\\N{CJK UNIFIED IDEOGRAPH-5206}) missing from font(s) DejaVu Sans.\n",
            "  fig.canvas.print_figure(bytes_io, **kw)\n",
            "/usr/local/lib/python3.11/dist-packages/IPython/core/pylabtools.py:151: UserWarning: Glyph 24067 (\\N{CJK UNIFIED IDEOGRAPH-5E03}) missing from font(s) DejaVu Sans.\n",
            "  fig.canvas.print_figure(bytes_io, **kw)\n"
          ]
        },
        {
          "output_type": "display_data",
          "data": {
            "text/plain": [
              "<Figure size 640x480 with 1 Axes>"
            ],
            "image/png": "[encoded data removed]"
          },
          "metadata": {}
        }
      ]
    }
  ]
}