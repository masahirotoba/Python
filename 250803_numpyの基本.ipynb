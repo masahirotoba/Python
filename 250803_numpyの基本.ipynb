{
  "nbformat": 4,
  "nbformat_minor": 0,
  "metadata": {
    "colab": {
      "provenance": [],
      "mount_file_id": "1aCSMgewn7EbEYRh2SeiyXiBxv61O58RK",
      "authorship_tag": "ABX9TyOuE8KkZ1zxEjSMi+d4pSIU"
    },
    "kernelspec": {
      "name": "python3",
      "display_name": "Python 3"
    },
    "language_info": {
      "name": "python"
    }
  },
  "cells": [
    {
      "cell_type": "code",
      "source": [
        "import numpy as np"
      ],
      "metadata": {
        "id": "mhImkTpSy1dj"
      },
      "execution_count": 1,
      "outputs": []
    },
    {
      "cell_type": "code",
      "source": [
        "x = np.array([2/7, 1000/7, 0.034567])\n",
        "print(x)"
      ],
      "metadata": {
        "colab": {
          "base_uri": "https://localhost:8080/"
        },
        "id": "QxlapS5Sy4O7",
        "outputId": "6e32e0e2-dcce-4826-e3c9-485fa2f3ad87"
      },
      "execution_count": 2,
      "outputs": [
        {
          "output_type": "stream",
          "name": "stdout",
          "text": [
            "[2.85714286e-01 1.42857143e+02 3.45670000e-02]\n"
          ]
        }
      ]
    },
    {
      "cell_type": "markdown",
      "source": [
        "### 表示形式を変更"
      ],
      "metadata": {
        "id": "xvlmL_DXzXpW"
      }
    },
    {
      "cell_type": "code",
      "source": [
        "np.set_printoptions(\n",
        "    suppress=True,\n",
        "    precision=4,\n",
        "    floatmode='fixed'\n",
        ")\n",
        "print(x)"
      ],
      "metadata": {
        "colab": {
          "base_uri": "https://localhost:8080/"
        },
        "id": "cUTgn0DSzC_b",
        "outputId": "1b404451-ed21-43c3-9ddc-aee8c1761534"
      },
      "execution_count": 3,
      "outputs": [
        {
          "output_type": "stream",
          "name": "stdout",
          "text": [
            "[  0.2857 142.8571   0.0346]\n"
          ]
        }
      ]
    },
    {
      "cell_type": "code",
      "source": [
        "nl = np.array([1,7,5,2])\n",
        "print(nl)"
      ],
      "metadata": {
        "colab": {
          "base_uri": "https://localhost:8080/"
        },
        "id": "W1E3cwpzzS7h",
        "outputId": "3ecab027-698f-46be-dd78-c17877f3ed2d"
      },
      "execution_count": 4,
      "outputs": [
        {
          "output_type": "stream",
          "name": "stdout",
          "text": [
            "[1 7 5 2]\n"
          ]
        }
      ]
    },
    {
      "cell_type": "code",
      "source": [
        "# 型を確認\n",
        "print(type(nl))\n",
        "\n",
        "# 要素数\n",
        "print(nl.shape)\n",
        "\n",
        "# 長さ\n",
        "print(len(nl))"
      ],
      "metadata": {
        "colab": {
          "base_uri": "https://localhost:8080/"
        },
        "id": "FG6QpKdCzmbK",
        "outputId": "d3e86291-fbbf-4077-a18e-5afad2396a9d"
      },
      "execution_count": 6,
      "outputs": [
        {
          "output_type": "stream",
          "name": "stdout",
          "text": [
            "<class 'numpy.ndarray'>\n",
            "(4,)\n",
            "4\n"
          ]
        }
      ]
    },
    {
      "cell_type": "markdown",
      "source": [
        "### numpuのarray関数は配列を作るんですよね？\n",
        "NumPyの`array()`関数は配列（ndarray）を作成する関数です。\n",
        "\n",
        "## 基本的な使い方\n",
        "\n",
        "```python\n",
        "import numpy as np\n",
        "\n",
        "# リストから配列を作成\n",
        "arr1 = np.array([1, 2, 3, 4, 5])\n",
        "print(arr1)  # [1 2 3 4 5]\n",
        "\n",
        "# 2次元配列を作成\n",
        "arr2 = np.array([[1, 2, 3], [4, 5, 6]])\n",
        "print(arr2)\n",
        "# [[1 2 3]\n",
        "#  [4 5 6]]\n",
        "```\n",
        "\n",
        "## PythonのリストとNumPy配列の違い\n",
        "\n",
        "```python\n",
        "# Pythonのリスト\n",
        "python_list = [1, 2, 3, 4, 5]\n",
        "\n",
        "# NumPy配列\n",
        "numpy_array = np.array([1, 2, 3, 4, 5])\n",
        "\n",
        "print(type(python_list))   # <class 'list'>\n",
        "print(type(numpy_array))   # <class 'numpy.ndarray'>\n",
        "```\n",
        "\n",
        "## NumPy配列の利点\n",
        "\n",
        "1. **高速な計算**\n",
        "```python\n",
        "arr = np.array([1, 2, 3, 4, 5])\n",
        "result = arr * 2  # 全要素を2倍\n",
        "print(result)     # [ 2  4  6  8 10]\n",
        "```\n",
        "\n",
        "2. **便利な数学関数**\n",
        "```python\n",
        "arr = np.array([1, 4, 9, 16, 25])\n",
        "sqrt_arr = np.sqrt(arr)  # 平方根\n",
        "print(sqrt_arr)          # [1. 2. 3. 4. 5.]\n",
        "```\n",
        "\n",
        "つまり、`np.array()`は**リストやタプルなどをNumPyの高性能な配列に変換する**関数です！"
      ],
      "metadata": {
        "id": "WQr1ee2xzss2"
      }
    },
    {
      "cell_type": "markdown",
      "source": [
        "### 2次元の表を作る"
      ],
      "metadata": {
        "id": "OU26_g8y2IjJ"
      }
    },
    {
      "cell_type": "code",
      "source": [
        "n2 = np.array(\n",
        "    [1,2,3,4],\n",
        "    [5,6,7,8],\n",
        "    [9,10,11,12]\n",
        ")\n",
        "\n",
        "print(n2)"
      ],
      "metadata": {
        "colab": {
          "base_uri": "https://localhost:8080/",
          "height": 218
        },
        "id": "cfnEDLIf2NB9",
        "outputId": "2d96f2f6-a493-46a7-e052-076263043352"
      },
      "execution_count": 7,
      "outputs": [
        {
          "output_type": "error",
          "ename": "TypeError",
          "evalue": "array() takes from 1 to 2 positional arguments but 3 were given",
          "traceback": [
            "\u001b[0;31m---------------------------------------------------------------------------\u001b[0m",
            "\u001b[0;31mTypeError\u001b[0m                                 Traceback (most recent call last)",
            "\u001b[0;32m/tmp/ipython-input-2846232547.py\u001b[0m in \u001b[0;36m<cell line: 0>\u001b[0;34m()\u001b[0m\n\u001b[0;32m----> 1\u001b[0;31m n2 = np.array(\n\u001b[0m\u001b[1;32m      2\u001b[0m     \u001b[0;34m[\u001b[0m\u001b[0;36m1\u001b[0m\u001b[0;34m,\u001b[0m\u001b[0;36m2\u001b[0m\u001b[0;34m,\u001b[0m\u001b[0;36m3\u001b[0m\u001b[0;34m,\u001b[0m\u001b[0;36m4\u001b[0m\u001b[0;34m]\u001b[0m\u001b[0;34m,\u001b[0m\u001b[0;34m\u001b[0m\u001b[0;34m\u001b[0m\u001b[0m\n\u001b[1;32m      3\u001b[0m     \u001b[0;34m[\u001b[0m\u001b[0;36m5\u001b[0m\u001b[0;34m,\u001b[0m\u001b[0;36m6\u001b[0m\u001b[0;34m,\u001b[0m\u001b[0;36m7\u001b[0m\u001b[0;34m,\u001b[0m\u001b[0;36m8\u001b[0m\u001b[0;34m]\u001b[0m\u001b[0;34m,\u001b[0m\u001b[0;34m\u001b[0m\u001b[0;34m\u001b[0m\u001b[0m\n\u001b[1;32m      4\u001b[0m     \u001b[0;34m[\u001b[0m\u001b[0;36m9\u001b[0m\u001b[0;34m,\u001b[0m\u001b[0;36m10\u001b[0m\u001b[0;34m,\u001b[0m\u001b[0;36m11\u001b[0m\u001b[0;34m,\u001b[0m\u001b[0;36m12\u001b[0m\u001b[0;34m]\u001b[0m\u001b[0;34m\u001b[0m\u001b[0;34m\u001b[0m\u001b[0m\n\u001b[1;32m      5\u001b[0m )\n",
            "\u001b[0;31mTypeError\u001b[0m: array() takes from 1 to 2 positional arguments but 3 were given"
          ]
        }
      ]
    },
    {
      "cell_type": "markdown",
      "source": [
        "### 2重構造のリストにならないとエラーになる"
      ],
      "metadata": {
        "id": "w-oZFE1Z2Xvv"
      }
    },
    {
      "cell_type": "code",
      "source": [
        "n2 = np.array([\n",
        "    [1,2,3,4],\n",
        "    [5,6,7,8],\n",
        "    [9,10,11,12]\n",
        "])\n",
        "\n",
        "print(n2)"
      ],
      "metadata": {
        "colab": {
          "base_uri": "https://localhost:8080/"
        },
        "id": "N5jHexeJ2jPT",
        "outputId": "3e42a8d9-3ce1-47d4-fa7e-664d700b0907"
      },
      "execution_count": 8,
      "outputs": [
        {
          "output_type": "stream",
          "name": "stdout",
          "text": [
            "[[ 1  2  3  4]\n",
            " [ 5  6  7  8]\n",
            " [ 9 10 11 12]]\n"
          ]
        }
      ]
    },
    {
      "cell_type": "code",
      "source": [
        "# こっちはプロパティ\n",
        "print(n2.shape)\n",
        "\n",
        "# こっちは関数\n",
        "print(len(n2))"
      ],
      "metadata": {
        "colab": {
          "base_uri": "https://localhost:8080/"
        },
        "id": "Ljj4WNzP2mUK",
        "outputId": "6e033179-0c18-4da1-d7aa-ce2d1381b2c8"
      },
      "execution_count": 9,
      "outputs": [
        {
          "output_type": "stream",
          "name": "stdout",
          "text": [
            "(3, 4)\n",
            "3\n"
          ]
        }
      ]
    },
    {
      "cell_type": "markdown",
      "source": [
        "### 等間隔の数値配列"
      ],
      "metadata": {
        "id": "p3vYyxWs2s4h"
      }
    },
    {
      "cell_type": "code",
      "source": [
        "n3 = np.linspace(0,2,11)\n",
        "\n",
        "print(n3)"
      ],
      "metadata": {
        "colab": {
          "base_uri": "https://localhost:8080/"
        },
        "id": "vqDUjws022qg",
        "outputId": "59b7d10d-a63e-4ff5-f96e-b0cf681da339"
      },
      "execution_count": 10,
      "outputs": [
        {
          "output_type": "stream",
          "name": "stdout",
          "text": [
            "[0.0000 0.2000 0.4000 0.6000 0.8000 1.0000 1.2000 1.4000 1.6000 1.8000\n",
            " 2.0000]\n"
          ]
        }
      ]
    },
    {
      "cell_type": "markdown",
      "source": [
        "### linspaceってどういう意味？\n",
        "linspaceは**「linear space（線形空間）」の短縮形で、「等間隔に並んだ数値の配列を作成する」**NumPy関数です。"
      ],
      "metadata": {
        "id": "R4YiaFPu279J"
      }
    },
    {
      "cell_type": "code",
      "source": [
        "n4 = np.arange(0, 2.2, 0.2)\n",
        "\n",
        "print(n4)"
      ],
      "metadata": {
        "colab": {
          "base_uri": "https://localhost:8080/"
        },
        "id": "oyKcGp9y3IcL",
        "outputId": "9fa47e97-ba66-41e1-8652-55e86422e3e7"
      },
      "execution_count": 12,
      "outputs": [
        {
          "output_type": "stream",
          "name": "stdout",
          "text": [
            "[0.0000 0.2000 0.4000 0.6000 0.8000 1.0000 1.2000 1.4000 1.6000 1.8000\n",
            " 2.0000]\n"
          ]
        }
      ]
    },
    {
      "cell_type": "code",
      "source": [],
      "metadata": {
        "id": "zQJUvcMz3QBo"
      },
      "execution_count": null,
      "outputs": []
    }
  ]
}