{
  "nbformat": 4,
  "nbformat_minor": 0,
  "metadata": {
    "colab": {
      "provenance": [],
      "mount_file_id": "1aCSMgewn7EbEYRh2SeiyXiBxv61O58RK",
      "authorship_tag": "ABX9TyMUpX82gUBufMdeVN74sqRl"
    },
    "kernelspec": {
      "name": "python3",
      "display_name": "Python 3"
    },
    "language_info": {
      "name": "python"
    }
  },
  "cells": [
    {
      "cell_type": "markdown",
      "source": [
        "### 継承の復習"
      ],
      "metadata": {
        "id": "EwBLktVNmM4o"
      }
    },
    {
      "cell_type": "code",
      "source": [
        "class Car(object):\n",
        "  def run(self):\n",
        "    print('run')\n",
        "\n",
        "class MyCar(Car):\n",
        "  def run(self):\n",
        "    print('fast')\n",
        "\n",
        "class AdvancedCar(Car):\n",
        "  def run(self):\n",
        "    print('very fast')\n",
        "\n",
        "car = Car()\n",
        "car.run()\n",
        "\n",
        "my_car = MyCar()\n",
        "my_car.run()\n",
        "\n",
        "advanced_car = AdvancedCar()\n",
        "advanced_car.run()"
      ],
      "metadata": {
        "id": "RQpE-1YImMZ9"
      },
      "execution_count": null,
      "outputs": []
    },
    {
      "cell_type": "markdown",
      "source": [
        "### なぜrun()の中にselfを書く必要が？\n",
        "Pythonのメソッドでselfを書く必要がある理由は、そのメソッドがどのオブジェクト（インスタンス）に対して実行されているかを明確にするためです。"
      ],
      "metadata": {
        "id": "dlM0n_BlnVV5"
      }
    },
    {
      "cell_type": "markdown",
      "source": [
        "### プロパティの使い方"
      ],
      "metadata": {
        "id": "NxbTsLzRlYl5"
      }
    },
    {
      "cell_type": "code",
      "source": [
        "class Car(object):\n",
        "  def __init__(self, model=None):\n",
        "    self.model = model\n",
        "\n",
        "class AdvancedCar(Car):\n",
        "  def __init__(self, model='SUV', enable_auto_run=False):\n",
        "    super().__init__(model)\n",
        "    self.enable_auto_run = enable_auto_run\n",
        "\n",
        "advanced_car = AdvancedCar('SUV')\n",
        "advanced_car.enable_auto_run = True\n",
        "print(advanced_car.enable_auto_run)"
      ],
      "metadata": {
        "id": "9R7GgcPYRfQD",
        "colab": {
          "base_uri": "https://localhost:8080/"
        },
        "outputId": "ac35918e-dde4-4288-c672-e9e47bf0f760"
      },
      "execution_count": 2,
      "outputs": [
        {
          "output_type": "stream",
          "name": "stdout",
          "text": [
            "True\n"
          ]
        }
      ]
    },
    {
      "cell_type": "markdown",
      "source": [
        "### @propertyでメソッドを値のように呼び出す"
      ],
      "metadata": {
        "id": "KSAevv4koIVO"
      }
    },
    {
      "cell_type": "code",
      "source": [
        "class Cricle(object):\n",
        "  def __init__(self, radius):\n",
        "    self._radius = radius\n",
        "\n",
        "  @property\n",
        "  def area(self):\n",
        "    return 3.14 * self._radius * self._radius\n",
        "\n",
        "  @property\n",
        "  def radius(self):\n",
        "    return self._radius\n",
        "\n",
        "c = Cricle(5)\n",
        "print(c.area)\n",
        "print(c.radius)"
      ],
      "metadata": {
        "colab": {
          "base_uri": "https://localhost:8080/"
        },
        "id": "KP-Df7D2oHg9",
        "outputId": "ec51a831-9be2-4426-fc5f-a3791685ebcd"
      },
      "execution_count": 4,
      "outputs": [
        {
          "output_type": "stream",
          "name": "stdout",
          "text": [
            "78.5\n",
            "5\n"
          ]
        }
      ]
    },
    {
      "cell_type": "markdown",
      "source": [
        "### セッターの使い方"
      ],
      "metadata": {
        "id": "2s3cRfpGpz9c"
      }
    },
    {
      "cell_type": "code",
      "source": [
        "class Circle(object):  # クラス名も修正\n",
        "    def __init__(self, radius):\n",
        "        self._radius = radius\n",
        "\n",
        "    @property\n",
        "    def area(self):\n",
        "        return 3.14 * self._radius * self._radius\n",
        "\n",
        "    @property\n",
        "    def radius(self):\n",
        "        return self._radius\n",
        "\n",
        "    @radius.setter  # セッターを追加\n",
        "    def radius(self, value):\n",
        "        if value > 0:\n",
        "            self._radius = value\n",
        "        else:\n",
        "            raise ValueError(\"半径は正の数である必要があります\")\n",
        "\n",
        "# 使用例\n",
        "c = Circle(5)\n",
        "print(c.area)    # 78.5\n",
        "print(c.radius)  # 5\n",
        "\n",
        "# セッターを使って値を変更\n",
        "c.radius = 10\n",
        "print(c.area)    # 314.0\n",
        "print(c.radius)  # 10\n",
        "\n",
        "# エラーケース\n",
        "# c.radius = -3  # ValueError: 半径は正の数である必要があります"
      ],
      "metadata": {
        "id": "O4JckIDwl51s"
      },
      "execution_count": null,
      "outputs": []
    },
    {
      "cell_type": "code",
      "source": [],
      "metadata": {
        "id": "QjQb23YYoDEc"
      },
      "execution_count": null,
      "outputs": []
    }
  ]
}