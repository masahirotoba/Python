{
  "nbformat": 4,
  "nbformat_minor": 0,
  "metadata": {
    "colab": {
      "provenance": [],
      "authorship_tag": "ABX9TyPFi3cYN5CzYBHMiFnP5qHS"
    },
    "kernelspec": {
      "name": "python3",
      "display_name": "Python 3"
    },
    "language_info": {
      "name": "python"
    }
  },
  "cells": [
    {
      "cell_type": "code",
      "source": [
        "class Person(object):\n",
        "  def say_something(self):\n",
        "    print('hello')\n",
        "\n",
        "person = Person()\n",
        "person.say_something()"
      ],
      "metadata": {
        "id": "vQu-RWzNyANV"
      },
      "execution_count": 1,
      "outputs": []
    },
    {
      "cell_type": "markdown",
      "source": [
        "## selfとはどういう意味？\n",
        "selfは「このオブジェクト自身」を指す特別な引数です！\n",
        "selfの意味\n",
        "pythonclass Person(object):\n",
        "    def say_something(self):  # selfは「このPersonオブジェクト」を指す\n",
        "        print('hello')\n",
        "\n",
        "person = Person()        # personオブジェクトを作成\n",
        "person.say_something()   # personオブジェクトのsay_somethingを呼び出し\n",
        "実際の動作\n",
        "python# この呼び出しは...\n",
        "person.say_something()\n",
        "\n",
        "# 内部的にはこうなっている\n",
        "Person.say_something(person)  # personがselfとして渡される"
      ],
      "metadata": {
        "id": "xVsiBz4DyRwC"
      }
    },
    {
      "cell_type": "code",
      "source": [
        "class Person(object):\n",
        "  def __init__(self):\n",
        "    print('First')\n",
        "\n",
        "person = Person()"
      ],
      "metadata": {
        "colab": {
          "base_uri": "https://localhost:8080/"
        },
        "id": "BFVgIZAXyIi5",
        "outputId": "db2206c0-271e-4a66-c19e-e226ef42974f"
      },
      "execution_count": 3,
      "outputs": [
        {
          "output_type": "stream",
          "name": "stdout",
          "text": [
            "First\n"
          ]
        }
      ]
    },
    {
      "cell_type": "markdown",
      "source": [
        "selfがないと、どのオブジェクトの属性を操作すればいいか分からなるので必ず必要"
      ],
      "metadata": {
        "id": "_HFaS4QCzdS8"
      }
    },
    {
      "cell_type": "code",
      "source": [
        "class Person(object):\n",
        "  def __init__(self, name):\n",
        "    self.name = name\n",
        "    print(self.name)\n",
        "\n",
        "person = Person('Bob')"
      ],
      "metadata": {
        "colab": {
          "base_uri": "https://localhost:8080/"
        },
        "id": "NkdZ2lSBynhe",
        "outputId": "8ca23f24-3e67-41ef-fac5-1933d3e0469c"
      },
      "execution_count": 4,
      "outputs": [
        {
          "output_type": "stream",
          "name": "stdout",
          "text": [
            "Bob\n"
          ]
        }
      ]
    },
    {
      "cell_type": "code",
      "source": [
        "class Person:\n",
        "    def __init__(self, name, age):\n",
        "        self.name = name\n",
        "        self.age = age\n",
        "\n",
        "person = Person(\"田中\", 25)\n",
        "print(person.name)\n",
        "print(person.age)"
      ],
      "metadata": {
        "colab": {
          "base_uri": "https://localhost:8080/"
        },
        "id": "f_ia4INXyzaP",
        "outputId": "1a9b246d-482a-40be-f570-65e119e3e363"
      },
      "execution_count": 6,
      "outputs": [
        {
          "output_type": "stream",
          "name": "stdout",
          "text": [
            "田中\n",
            "25\n"
          ]
        }
      ]
    },
    {
      "cell_type": "code",
      "source": [
        "class Person(object):\n",
        "  def __init__(self, name, age):\n",
        "    self.name = name\n",
        "    self.age = age\n",
        "\n",
        "tanaka = Person('田中', 25)\n",
        "print(tanaka.name)\n",
        "print(tanaka.age)"
      ],
      "metadata": {
        "colab": {
          "base_uri": "https://localhost:8080/"
        },
        "id": "OCiD8npZzvn1",
        "outputId": "ac4411eb-f6f4-470e-b774-b6bdb5278ff0"
      },
      "execution_count": 7,
      "outputs": [
        {
          "output_type": "stream",
          "name": "stdout",
          "text": [
            "田中\n",
            "25\n"
          ]
        }
      ]
    },
    {
      "cell_type": "markdown",
      "source": [
        "### デフォルト引数も渡せる"
      ],
      "metadata": {
        "id": "NrhtqXg70H4g"
      }
    },
    {
      "cell_type": "code",
      "source": [
        "class Person(object):\n",
        "  def __init__(self, name = '名前'):\n",
        "    self.name = name\n",
        "\n",
        "yamada = Person()\n",
        "print(yamada.name)"
      ],
      "metadata": {
        "colab": {
          "base_uri": "https://localhost:8080/"
        },
        "id": "h9P3uslo0CXj",
        "outputId": "23b106e7-1f84-4f78-efc4-f4004d244391"
      },
      "execution_count": 8,
      "outputs": [
        {
          "output_type": "stream",
          "name": "stdout",
          "text": [
            "名前\n"
          ]
        }
      ]
    },
    {
      "cell_type": "markdown",
      "source": [
        "### 呼び出し方法"
      ],
      "metadata": {
        "id": "MpTnJQCA2ljj"
      }
    },
    {
      "cell_type": "code",
      "source": [
        "class Person(object):\n",
        "  def __init__(self, name):\n",
        "    self.name = name\n",
        "  def say_something(self):\n",
        "    print('I am {}. hello'.format(self.name))\n",
        "\n",
        "person = Person('Mike')\n",
        "person.say_something()"
      ],
      "metadata": {
        "colab": {
          "base_uri": "https://localhost:8080/"
        },
        "id": "X24aglpD0Z5X",
        "outputId": "085a18de-72f7-4e45-af47-ded83b9ea99e"
      },
      "execution_count": 10,
      "outputs": [
        {
          "output_type": "stream",
          "name": "stdout",
          "text": [
            "I am Mike. hello\n"
          ]
        }
      ]
    },
    {
      "cell_type": "markdown",
      "source": [
        "### {}はどういう意味ですか？\n",
        "{}は文字列の中に値を埋め込むための「プレースホルダー（穴）」です！"
      ],
      "metadata": {
        "id": "MJG9RqIt3M-9"
      }
    },
    {
      "cell_type": "code",
      "source": [],
      "metadata": {
        "id": "oEwsp8wY3FKU"
      },
      "execution_count": null,
      "outputs": []
    }
  ]
}