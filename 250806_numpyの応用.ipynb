{
  "nbformat": 4,
  "nbformat_minor": 0,
  "metadata": {
    "colab": {
      "provenance": [],
      "mount_file_id": "1aCSMgewn7EbEYRh2SeiyXiBxv61O58RK",
      "authorship_tag": "ABX9TyMnn5JsTS17YGq96e+p76wc"
    },
    "kernelspec": {
      "name": "python3",
      "display_name": "Python 3"
    },
    "language_info": {
      "name": "python"
    }
  },
  "cells": [
    {
      "cell_type": "code",
      "source": [
        "import numpy as np"
      ],
      "metadata": {
        "id": "MGBPGDXBonaD"
      },
      "execution_count": 1,
      "outputs": []
    },
    {
      "cell_type": "markdown",
      "source": [
        "# 配列の各要素を比較する（1か所だけ違う）"
      ],
      "metadata": {
        "id": "hJdVBGJWpq8G"
      }
    },
    {
      "cell_type": "code",
      "source": [
        "yt = np.array([1,1,0,1,0,1,1,0,1,1])\n",
        "yp = np.array([1,1,0,1,0,1,1,1,1,1])\n",
        "\n",
        "print(yt)\n",
        "print(yp)"
      ],
      "metadata": {
        "colab": {
          "base_uri": "https://localhost:8080/"
        },
        "id": "fCL4x4huovwS",
        "outputId": "2e610fd6-a97e-4df1-8a6b-a0c5718b61f1"
      },
      "execution_count": 4,
      "outputs": [
        {
          "output_type": "stream",
          "name": "stdout",
          "text": [
            "[1 1 0 1 0 1 1 0 1 1]\n",
            "[1 1 0 1 0 1 1 1 1 1]\n"
          ]
        }
      ]
    },
    {
      "cell_type": "markdown",
      "source": [
        "# True/Falseの配列が返ってくる"
      ],
      "metadata": {
        "id": "o3Ka4UGppFFE"
      }
    },
    {
      "cell_type": "code",
      "source": [
        "matched = (yt == yp)\n",
        "print(matched)"
      ],
      "metadata": {
        "colab": {
          "base_uri": "https://localhost:8080/"
        },
        "id": "3lsL_968o4jG",
        "outputId": "c11f0606-1a73-4e55-8582-a8188c6a502f"
      },
      "execution_count": 5,
      "outputs": [
        {
          "output_type": "stream",
          "name": "stdout",
          "text": [
            "[ True  True  True  True  True  True  True False  True  True]\n"
          ]
        }
      ]
    },
    {
      "cell_type": "markdown",
      "source": [
        "# Trueは1、Falseは0になることを利用"
      ],
      "metadata": {
        "id": "Y4jDkV3OpURu"
      }
    },
    {
      "cell_type": "code",
      "source": [
        "correct = matched.sum()\n",
        "\n",
        "print(correct)"
      ],
      "metadata": {
        "colab": {
          "base_uri": "https://localhost:8080/"
        },
        "id": "xgYza0qqpEe_",
        "outputId": "cd51f8c0-792a-4e4b-b0b4-26a7cbdc0d8c"
      },
      "execution_count": 6,
      "outputs": [
        {
          "output_type": "stream",
          "name": "stdout",
          "text": [
            "9\n"
          ]
        }
      ]
    },
    {
      "cell_type": "code",
      "source": [
        "total = len(matched)\n",
        "\n",
        "print(total)"
      ],
      "metadata": {
        "colab": {
          "base_uri": "https://localhost:8080/"
        },
        "id": "wdZYCegxp02b",
        "outputId": "faa9bb57-4078-4e6f-949e-f46c62b93611"
      },
      "execution_count": 7,
      "outputs": [
        {
          "output_type": "stream",
          "name": "stdout",
          "text": [
            "10\n"
          ]
        }
      ]
    },
    {
      "cell_type": "code",
      "source": [
        "accuracy = correct / total\n",
        "\n",
        "print(accuracy)"
      ],
      "metadata": {
        "colab": {
          "base_uri": "https://localhost:8080/"
        },
        "id": "DRr6L0Xxp65U",
        "outputId": "05b1e379-b4e1-4a8f-f176-d58c40c4f67c"
      },
      "execution_count": 8,
      "outputs": [
        {
          "output_type": "stream",
          "name": "stdout",
          "text": [
            "0.9\n"
          ]
        }
      ]
    },
    {
      "cell_type": "markdown",
      "source": [
        "# 最大値と最小値を調べたい"
      ],
      "metadata": {
        "id": "r6fD4cBbqMi_"
      }
    },
    {
      "cell_type": "code",
      "source": [
        "nl = np.array([1,7,5,2])\n",
        "print(nl)"
      ],
      "metadata": {
        "colab": {
          "base_uri": "https://localhost:8080/"
        },
        "id": "O_d8tJdKp-G5",
        "outputId": "087b67a1-b02b-4384-c9e8-e4b63ee9ba3e"
      },
      "execution_count": 9,
      "outputs": [
        {
          "output_type": "stream",
          "name": "stdout",
          "text": [
            "[1 7 5 2]\n"
          ]
        }
      ]
    },
    {
      "cell_type": "markdown",
      "source": [
        "最大値と最小値で正規化する"
      ],
      "metadata": {
        "id": "_HiXPRHHqeb4"
      }
    },
    {
      "cell_type": "code",
      "source": [
        "nl_max = nl.max()\n",
        "nl_min = nl.min()\n",
        "\n",
        "print(nl_max)\n",
        "print(nl_min)"
      ],
      "metadata": {
        "colab": {
          "base_uri": "https://localhost:8080/"
        },
        "id": "gc432zP7qIJL",
        "outputId": "c1319012-1430-406c-da22-681db4380a47"
      },
      "execution_count": 10,
      "outputs": [
        {
          "output_type": "stream",
          "name": "stdout",
          "text": [
            "7\n",
            "1\n"
          ]
        }
      ]
    }
  ]
}