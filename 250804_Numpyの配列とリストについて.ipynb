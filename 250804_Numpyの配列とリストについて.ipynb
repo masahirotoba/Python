{
  "nbformat": 4,
  "nbformat_minor": 0,
  "metadata": {
    "colab": {
      "provenance": [],
      "mount_file_id": "1aCSMgewn7EbEYRh2SeiyXiBxv61O58RK",
      "authorship_tag": "ABX9TyOd4TFb0t8phdI9+5+SYIvZ"
    },
    "kernelspec": {
      "name": "python3",
      "display_name": "Python 3"
    },
    "language_info": {
      "name": "python"
    }
  },
  "cells": [
    {
      "cell_type": "code",
      "source": [
        "import numpy as np"
      ],
      "metadata": {
        "id": "KA80k_fdVn9R"
      },
      "execution_count": 4,
      "outputs": []
    },
    {
      "cell_type": "markdown",
      "source": [
        "### これだと通常のリストになってしまう"
      ],
      "metadata": {
        "id": "fgHU0A5SWB1n"
      }
    },
    {
      "cell_type": "code",
      "source": [
        "n1 = ([\n",
        "    [1,2,3,4],\n",
        "    [5,6,7,8],\n",
        "    [9,10,11,12]\n",
        "])\n",
        "\n",
        "print(n1)"
      ],
      "metadata": {
        "colab": {
          "base_uri": "https://localhost:8080/"
        },
        "id": "FDpPynCrVEKE",
        "outputId": "dbd4c504-fc29-4285-b5c8-fcb9bd2f3ba7"
      },
      "execution_count": 9,
      "outputs": [
        {
          "output_type": "stream",
          "name": "stdout",
          "text": [
            "[[1, 2, 3, 4], [5, 6, 7, 8], [9, 10, 11, 12]]\n"
          ]
        }
      ]
    },
    {
      "cell_type": "code",
      "source": [
        "print(n1[1][2])"
      ],
      "metadata": {
        "colab": {
          "base_uri": "https://localhost:8080/"
        },
        "id": "RN5kVwZgWJk_",
        "outputId": "8c832f03-6771-4803-bfe3-ade0dc0532af"
      },
      "execution_count": 11,
      "outputs": [
        {
          "output_type": "stream",
          "name": "stdout",
          "text": [
            "7\n"
          ]
        }
      ]
    },
    {
      "cell_type": "markdown",
      "source": [
        "### これだと3次元のリストになってしまう"
      ],
      "metadata": {
        "id": "JCh8MPZAW9x1"
      }
    },
    {
      "cell_type": "code",
      "source": [
        "n = [[\n",
        "    [1,2,3,4],\n",
        "    [5,6,7,8],\n",
        "    [9,10,11,12]\n",
        "]]\n",
        "\n",
        "print(n)"
      ],
      "metadata": {
        "colab": {
          "base_uri": "https://localhost:8080/"
        },
        "id": "dZ2ktLrCWvMA",
        "outputId": "1ceeab51-eb85-4278-e691-3008e16fb826"
      },
      "execution_count": 12,
      "outputs": [
        {
          "output_type": "stream",
          "name": "stdout",
          "text": [
            "[[[1, 2, 3, 4], [5, 6, 7, 8], [9, 10, 11, 12]]]\n"
          ]
        }
      ]
    },
    {
      "cell_type": "markdown",
      "source": [
        "### 2次元にするにはこうする"
      ],
      "metadata": {
        "id": "ZdaMciyxVR18"
      }
    },
    {
      "cell_type": "code",
      "source": [
        "n = [\n",
        "    [1,2,3,4],\n",
        "    [5,6,7,8],\n",
        "    [9,10,11,12]\n",
        "]\n",
        "\n",
        "print(n)"
      ],
      "metadata": {
        "colab": {
          "base_uri": "https://localhost:8080/"
        },
        "id": "rGv_qXnsWIyY",
        "outputId": "01033d79-8dc6-4b27-9d01-b45c9058a40c"
      },
      "execution_count": 13,
      "outputs": [
        {
          "output_type": "stream",
          "name": "stdout",
          "text": [
            "[[1, 2, 3, 4], [5, 6, 7, 8], [9, 10, 11, 12]]\n"
          ]
        }
      ]
    },
    {
      "cell_type": "markdown",
      "source": [
        "### これはタプルですか？\n",
        "いいえ、これはリストです。タプルではありません。\n",
        "外側の()は数学の括弧と同じで、単なるグルーピングです。\n",
        "\n",
        "この2つは全く同じ意味\n",
        "n1 = ([1, 2, 3])\n",
        "n2 = [1, 2, 3]\n",
        "\n",
        "print(type(n1))   # <class 'list'>\n",
        "print(type(n2))   # <class 'list'>"
      ],
      "metadata": {
        "id": "47nWYt2LXN2n"
      }
    },
    {
      "cell_type": "code",
      "source": [
        "### これでNumpayのarray（配列）になった"
      ],
      "metadata": {
        "id": "JlozfJm3XuXh"
      },
      "execution_count": null,
      "outputs": []
    },
    {
      "cell_type": "code",
      "source": [
        "n2 = np.array([\n",
        "    [1,2,3,4],\n",
        "    [5,6,7,8],\n",
        "    [9,10,11,12]\n",
        "])\n",
        "\n",
        "print(n2)"
      ],
      "metadata": {
        "id": "1GQWdKv7VDof",
        "colab": {
          "base_uri": "https://localhost:8080/"
        },
        "outputId": "9f5cb567-c61e-4975-b526-541805ad2a3e"
      },
      "execution_count": 14,
      "outputs": [
        {
          "output_type": "stream",
          "name": "stdout",
          "text": [
            "[[ 1  2  3  4]\n",
            " [ 5  6  7  8]\n",
            " [ 9 10 11 12]]\n"
          ]
        }
      ]
    },
    {
      "cell_type": "markdown",
      "source": [
        "### 指定して出力できる"
      ],
      "metadata": {
        "id": "6HbL2gZyXtu4"
      }
    },
    {
      "cell_type": "code",
      "source": [
        "n5 = n2[1,2]\n",
        "print(n5)"
      ],
      "metadata": {
        "colab": {
          "base_uri": "https://localhost:8080/"
        },
        "id": "UWyJvzrmX8fu",
        "outputId": "d5c13cf8-a131-4c02-de61-a56c509ef6f2"
      },
      "execution_count": 15,
      "outputs": [
        {
          "output_type": "stream",
          "name": "stdout",
          "text": [
            "7\n"
          ]
        }
      ]
    },
    {
      "cell_type": "code",
      "source": [
        "n6 = n2[1, :]\n",
        "print(n6)"
      ],
      "metadata": {
        "colab": {
          "base_uri": "https://localhost:8080/"
        },
        "id": "uYj7NvYJX_cC",
        "outputId": "1002a58f-1e4d-40d2-c1ef-07d80163f336"
      },
      "execution_count": 16,
      "outputs": [
        {
          "output_type": "stream",
          "name": "stdout",
          "text": [
            "[5 6 7 8]\n"
          ]
        }
      ]
    },
    {
      "cell_type": "code",
      "source": [
        "n7 = n2[:, 0]\n",
        "print(n7)"
      ],
      "metadata": {
        "colab": {
          "base_uri": "https://localhost:8080/"
        },
        "id": "LyXrfdTNYDpa",
        "outputId": "cbfc6c47-2c19-4176-faf8-b4b5f97b73b9"
      },
      "execution_count": 18,
      "outputs": [
        {
          "output_type": "stream",
          "name": "stdout",
          "text": [
            "[1 5 9]\n"
          ]
        }
      ]
    },
    {
      "cell_type": "code",
      "source": [
        "n8 = n2[:2, 2:]\n",
        "print(n8)"
      ],
      "metadata": {
        "colab": {
          "base_uri": "https://localhost:8080/"
        },
        "id": "SRBuEK3AYNgR",
        "outputId": "f0f83f36-7d15-4b66-90c7-141b6ae5c377"
      },
      "execution_count": 19,
      "outputs": [
        {
          "output_type": "stream",
          "name": "stdout",
          "text": [
            "[[3 4]\n",
            " [7 8]]\n"
          ]
        }
      ]
    },
    {
      "cell_type": "code",
      "source": [
        "n2_index = np.array([True, True, False])\n",
        "n9 = n2[n2_index]\n",
        "print(n9)"
      ],
      "metadata": {
        "colab": {
          "base_uri": "https://localhost:8080/"
        },
        "id": "LUCQGmuaYW3I",
        "outputId": "a8b99bcc-a44d-4adb-d244-9954c1eb6557"
      },
      "execution_count": 20,
      "outputs": [
        {
          "output_type": "stream",
          "name": "stdout",
          "text": [
            "[[1 2 3 4]\n",
            " [5 6 7 8]]\n"
          ]
        }
      ]
    }
  ]
}