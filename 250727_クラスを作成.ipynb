{
  "nbformat": 4,
  "nbformat_minor": 0,
  "metadata": {
    "colab": {
      "provenance": [],
      "authorship_tag": "ABX9TyP4O4vIlUOOeWQ9o0lSj0cy",
      "include_colab_link": true
    },
    "kernelspec": {
      "name": "python3",
      "display_name": "Python 3"
    },
    "language_info": {
      "name": "python"
    }
  },
  "cells": [
    {
      "cell_type": "markdown",
      "metadata": {
        "id": "view-in-github",
        "colab_type": "text"
      },
      "source": [
        "<a href=\"https://colab.research.google.com/github/masahirotoba/Python/blob/main/250727_%E3%82%AF%E3%83%A9%E3%82%B9%E3%82%92%E4%BD%9C%E6%88%90.ipynb\" target=\"_parent\"><img src=\"https://colab.research.google.com/assets/colab-badge.svg\" alt=\"Open In Colab\"/></a>"
      ]
    },
    {
      "cell_type": "markdown",
      "source": [
        "### クラスの作成方法＆呼び出し"
      ],
      "metadata": {
        "id": "Vi1lb3fUl4JO"
      }
    },
    {
      "cell_type": "code",
      "source": [
        "class Person(object):\n",
        "  def say_somethnig(self):\n",
        "    print('hello')\n",
        "\n",
        "person = Person()\n",
        "person.say_somethnig()"
      ],
      "metadata": {
        "colab": {
          "base_uri": "https://localhost:8080/"
        },
        "id": "qXWjqTuIlnTk",
        "outputId": "271ae45e-5293-4e95-cbbd-22c85f4e24c6"
      },
      "execution_count": 3,
      "outputs": [
        {
          "output_type": "stream",
          "name": "stdout",
          "text": [
            "hello\n"
          ]
        }
      ]
    },
    {
      "cell_type": "markdown",
      "source": [
        "### なぜクラスを使う際にはobjectが必要なのですか？\n",
        "objectはPythonのすべてのクラスの最上位の親クラスです。すべてのオブジェクトの「祖先」のような存在。全てのクラスが共通の基盤を持つことを表す\n"
      ],
      "metadata": {
        "id": "W2Pu-aIRl2T8"
      }
    },
    {
      "cell_type": "markdown",
      "source": [
        "### クラスが初期化された時の処理"
      ],
      "metadata": {
        "id": "ItL3lAOGnSrz"
      }
    },
    {
      "cell_type": "code",
      "source": [
        "class Person(object):\n",
        "  def __init__(self):\n",
        "    print('First')\n",
        "\n",
        "person = Person()"
      ],
      "metadata": {
        "id": "wPw1ekhMsOsl",
        "colab": {
          "base_uri": "https://localhost:8080/"
        },
        "outputId": "36e03fb8-4579-4ab4-ffd1-d4e923fc6047"
      },
      "execution_count": 6,
      "outputs": [
        {
          "output_type": "stream",
          "name": "stdout",
          "text": [
            "First\n"
          ]
        }
      ]
    },
    {
      "cell_type": "code",
      "source": [
        "class Person(object):\n",
        "  def __init__(self, name):\n",
        "    self.name = name\n",
        "    print(self.name)\n",
        "\n",
        "person = Person('Bob')\n",
        "print(person.name)"
      ],
      "metadata": {
        "id": "RXTo7iMfmnIK"
      },
      "execution_count": null,
      "outputs": []
    }
  ]
}