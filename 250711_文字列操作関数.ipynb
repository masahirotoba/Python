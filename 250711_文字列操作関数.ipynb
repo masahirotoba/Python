{
  "nbformat": 4,
  "nbformat_minor": 0,
  "metadata": {
    "colab": {
      "provenance": [],
      "authorship_tag": "ABX9TyMi6VUuj1k9bHEPLzD8xFFs",
      "include_colab_link": true
    },
    "kernelspec": {
      "name": "python3",
      "display_name": "Python 3"
    },
    "language_info": {
      "name": "python"
    }
  },
  "cells": [
    {
      "cell_type": "markdown",
      "metadata": {
        "id": "view-in-github",
        "colab_type": "text"
      },
      "source": [
        "<a href=\"https://colab.research.google.com/github/masahirotoba/Python/blob/main/250711_%E6%96%87%E5%AD%97%E5%88%97%E6%93%8D%E4%BD%9C%E9%96%A2%E6%95%B0.ipynb\" target=\"_parent\"><img src=\"https://colab.research.google.com/assets/colab-badge.svg\" alt=\"Open In Colab\"/></a>"
      ]
    },
    {
      "cell_type": "code",
      "source": [
        "s = 'どうもみなさんこんにちは'\n",
        "is_start = s.startswith('ど')\n",
        "print(is_start)"
      ],
      "metadata": {
        "colab": {
          "base_uri": "https://localhost:8080/"
        },
        "id": "G1CwncRfenTk",
        "outputId": "db1203d9-2242-4027-c979-99c5ee9aa7db"
      },
      "execution_count": 6,
      "outputs": [
        {
          "output_type": "stream",
          "name": "stdout",
          "text": [
            "True\n"
          ]
        }
      ]
    },
    {
      "cell_type": "code",
      "source": [
        "s = 'どうもみなさんこんにちは'\n",
        "is_start = s.startswith('あ')\n",
        "print(is_start)"
      ],
      "metadata": {
        "colab": {
          "base_uri": "https://localhost:8080/"
        },
        "id": "WxHPV60ieykb",
        "outputId": "95266ec3-0303-452c-d2bb-c483f6e951fd"
      },
      "execution_count": 7,
      "outputs": [
        {
          "output_type": "stream",
          "name": "stdout",
          "text": [
            "False\n"
          ]
        }
      ]
    },
    {
      "cell_type": "code",
      "source": [
        "s = 'どうもみなさんこんにちは'\n",
        "print(s.find('な'))"
      ],
      "metadata": {
        "colab": {
          "base_uri": "https://localhost:8080/"
        },
        "id": "q5Hv0xIFfQje",
        "outputId": "02bb2de7-e1a1-4130-e848-66aa0687e3be"
      },
      "execution_count": 8,
      "outputs": [
        {
          "output_type": "stream",
          "name": "stdout",
          "text": [
            "4\n"
          ]
        }
      ]
    },
    {
      "cell_type": "code",
      "source": [
        "s = 'どうもみなさんこんにちは'\n",
        "print(s.rfind('な'))"
      ],
      "metadata": {
        "colab": {
          "base_uri": "https://localhost:8080/"
        },
        "id": "-8TMSQWofapD",
        "outputId": "5461fbeb-311f-4007-cd10-c27fd79a1805"
      },
      "execution_count": 9,
      "outputs": [
        {
          "output_type": "stream",
          "name": "stdout",
          "text": [
            "4\n"
          ]
        }
      ]
    },
    {
      "cell_type": "code",
      "source": [
        "s = 'どうもみなさんこんにちは'\n",
        "print(s.count('ん'))"
      ],
      "metadata": {
        "colab": {
          "base_uri": "https://localhost:8080/"
        },
        "id": "t1Zw8aoyfgdb",
        "outputId": "66b3247b-ad81-4d85-e5da-2259eb4c0adf"
      },
      "execution_count": 10,
      "outputs": [
        {
          "output_type": "stream",
          "name": "stdout",
          "text": [
            "2\n"
          ]
        }
      ]
    },
    {
      "cell_type": "code",
      "source": [
        "s = 'HelloWorld'\n",
        "print(s.capitalize())"
      ],
      "metadata": {
        "colab": {
          "base_uri": "https://localhost:8080/"
        },
        "id": "KUVBdNd5flRM",
        "outputId": "10017820-9675-484f-e37c-039d85efd43d"
      },
      "execution_count": 11,
      "outputs": [
        {
          "output_type": "stream",
          "name": "stdout",
          "text": [
            "Helloworld\n"
          ]
        }
      ]
    },
    {
      "cell_type": "code",
      "source": [
        "s = 'HelloWorld'\n",
        "print(s.lower())"
      ],
      "metadata": {
        "colab": {
          "base_uri": "https://localhost:8080/"
        },
        "id": "r1EqrGq_fs3Z",
        "outputId": "d005adf6-eea8-48e9-a148-f3152cd5c104"
      },
      "execution_count": 12,
      "outputs": [
        {
          "output_type": "stream",
          "name": "stdout",
          "text": [
            "helloworld\n"
          ]
        }
      ]
    },
    {
      "cell_type": "code",
      "source": [
        "s = 'HelloWorld'\n",
        "print(s.upper())"
      ],
      "metadata": {
        "colab": {
          "base_uri": "https://localhost:8080/"
        },
        "id": "Rv1G6Wgsfv8e",
        "outputId": "f46a77a6-5160-48e4-fd52-ede609fbeec8"
      },
      "execution_count": 13,
      "outputs": [
        {
          "output_type": "stream",
          "name": "stdout",
          "text": [
            "HELLOWORLD\n"
          ]
        }
      ]
    },
    {
      "cell_type": "code",
      "source": [
        "s = 'HelloWorld'\n",
        "print(s.replace('l', 'あ'))"
      ],
      "metadata": {
        "colab": {
          "base_uri": "https://localhost:8080/"
        },
        "id": "IaVTxcAVf1MF",
        "outputId": "c26efa4b-32c3-4409-d94a-8bc12d08c2e4"
      },
      "execution_count": 14,
      "outputs": [
        {
          "output_type": "stream",
          "name": "stdout",
          "text": [
            "HeああoWorあd\n"
          ]
        }
      ]
    },
    {
      "cell_type": "code",
      "source": [],
      "metadata": {
        "id": "nmBKEy6Af7tY"
      },
      "execution_count": null,
      "outputs": []
    }
  ]
}