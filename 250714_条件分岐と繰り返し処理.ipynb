{
  "nbformat": 4,
  "nbformat_minor": 0,
  "metadata": {
    "colab": {
      "provenance": [],
      "authorship_tag": "ABX9TyNWmGbB3wZAHk/ZJNHlUfk4"
    },
    "kernelspec": {
      "name": "python3",
      "display_name": "Python 3"
    },
    "language_info": {
      "name": "python"
    }
  },
  "cells": [
    {
      "cell_type": "markdown",
      "source": [
        "# If文"
      ],
      "metadata": {
        "id": "TFxsiDgO03Ln"
      }
    },
    {
      "cell_type": "code",
      "source": [
        "x = 5\n",
        "\n",
        "if x < 10:\n",
        "  print('10より小さいです')"
      ],
      "metadata": {
        "id": "jYKIbsPOy9Jo"
      },
      "execution_count": 3,
      "outputs": []
    },
    {
      "cell_type": "code",
      "source": [
        "x = 10\n",
        "\n",
        "if x < 0:\n",
        "  print('0より小さいです')\n",
        "else:\n",
        "  print('0より大きいです')"
      ],
      "metadata": {
        "colab": {
          "base_uri": "https://localhost:8080/"
        },
        "id": "7-7XPZGRzEw2",
        "outputId": "fd1d10f8-4c06-45a3-9ac6-392a2c6975bc"
      },
      "execution_count": 4,
      "outputs": [
        {
          "output_type": "stream",
          "name": "stdout",
          "text": [
            "0より大きいです\n"
          ]
        }
      ]
    },
    {
      "cell_type": "code",
      "source": [
        "x = 10\n",
        "\n",
        "if x < 0:\n",
        "  print('0より小さいです')\n",
        "elif x == 0:\n",
        "  print('0と同じです')\n",
        "else:\n",
        "  print('0より大きいです')"
      ],
      "metadata": {
        "colab": {
          "base_uri": "https://localhost:8080/"
        },
        "id": "oNc0QWYIzb4T",
        "outputId": "5cc4cb25-37a3-4c81-b92c-e4e8719c6070"
      },
      "execution_count": 5,
      "outputs": [
        {
          "output_type": "stream",
          "name": "stdout",
          "text": [
            "0より大きいです\n"
          ]
        }
      ]
    },
    {
      "cell_type": "code",
      "source": [
        "a = 10\n",
        "b = 20\n",
        "if a > 0 and b > 0:\n",
        "  print('aもbも0より大きいです')"
      ],
      "metadata": {
        "colab": {
          "base_uri": "https://localhost:8080/"
        },
        "id": "VumIqy9Hznoj",
        "outputId": "2bd98086-7aed-4cc8-eb9d-4524cd7969e7"
      },
      "execution_count": 8,
      "outputs": [
        {
          "output_type": "stream",
          "name": "stdout",
          "text": [
            "aもbも0より大きいです\n"
          ]
        }
      ]
    },
    {
      "cell_type": "markdown",
      "source": [
        "# While文"
      ],
      "metadata": {
        "id": "96w4GtSk0-vP"
      }
    },
    {
      "cell_type": "code",
      "source": [
        "count = 0\n",
        "while count < 5:\n",
        "  print('count')\n",
        "  count += 1"
      ],
      "metadata": {
        "colab": {
          "base_uri": "https://localhost:8080/"
        },
        "id": "94zcZzHO0Jza",
        "outputId": "f182f389-ca76-4d47-b647-e1090cb80fe5"
      },
      "execution_count": 9,
      "outputs": [
        {
          "output_type": "stream",
          "name": "stdout",
          "text": [
            "count\n",
            "count\n",
            "count\n",
            "count\n",
            "count\n"
          ]
        }
      ]
    },
    {
      "cell_type": "code",
      "source": [
        "count = 0\n",
        "while True:\n",
        "  if count >= 5:\n",
        "    break\n",
        "\n",
        "  if count == 2:\n",
        "    count += 1\n",
        "    continue\n",
        "\n",
        "  print(count)\n",
        "  count += 1"
      ],
      "metadata": {
        "colab": {
          "base_uri": "https://localhost:8080/"
        },
        "id": "Ot02OZ3R1JKW",
        "outputId": "09f81cc7-59ce-43d2-bddc-e9a6f5d34abf"
      },
      "execution_count": 11,
      "outputs": [
        {
          "output_type": "stream",
          "name": "stdout",
          "text": [
            "0\n",
            "1\n",
            "3\n",
            "4\n"
          ]
        }
      ]
    },
    {
      "cell_type": "code",
      "source": [
        "count = 0\n",
        "\n",
        "while count < 5:\n",
        "  print('count')\n",
        "  count += 1\n",
        "else:\n",
        "  print('終了')"
      ],
      "metadata": {
        "colab": {
          "base_uri": "https://localhost:8080/"
        },
        "id": "24VXBvkh1hgq",
        "outputId": "7528066b-28db-459d-cf66-db267f56b9f0"
      },
      "execution_count": 12,
      "outputs": [
        {
          "output_type": "stream",
          "name": "stdout",
          "text": [
            "count\n",
            "count\n",
            "count\n",
            "count\n",
            "count\n",
            "終了\n"
          ]
        }
      ]
    },
    {
      "cell_type": "code",
      "source": [
        "while True:\n",
        "  word = input('Enter:')\n",
        "  if word == 'ok':\n",
        "    break\n",
        "  print('Next')"
      ],
      "metadata": {
        "colab": {
          "base_uri": "https://localhost:8080/"
        },
        "id": "gFHKo_aS12hJ",
        "outputId": "f6040bf9-2f6b-4d71-e1f7-81ad2db5dca2"
      },
      "execution_count": 13,
      "outputs": [
        {
          "name": "stdout",
          "output_type": "stream",
          "text": [
            "Enter:a\n",
            "Next\n",
            "Enter:ok\n"
          ]
        }
      ]
    },
    {
      "cell_type": "markdown",
      "source": [
        "# for文"
      ],
      "metadata": {
        "id": "xMwMsstF4U8_"
      }
    },
    {
      "cell_type": "code",
      "source": [
        "some_list = [1,2,3,4,5]\n",
        "\n",
        "i = 0\n",
        "while i < len(some_list):\n",
        "  print(some_list)\n",
        "  i += 1"
      ],
      "metadata": {
        "colab": {
          "base_uri": "https://localhost:8080/"
        },
        "id": "NDa4MW712shW",
        "outputId": "55f6d10f-ae5a-4334-c7a0-35f08657cf67"
      },
      "execution_count": 14,
      "outputs": [
        {
          "output_type": "stream",
          "name": "stdout",
          "text": [
            "[1, 2, 3, 4, 5]\n",
            "[1, 2, 3, 4, 5]\n",
            "[1, 2, 3, 4, 5]\n",
            "[1, 2, 3, 4, 5]\n",
            "[1, 2, 3, 4, 5]\n"
          ]
        }
      ]
    },
    {
      "cell_type": "code",
      "source": [
        "some_list = [1,2,3,4,5]\n",
        "\n",
        "i = 0\n",
        "while i < len(some_list):\n",
        "  print(some_list[i])\n",
        "  i += 1"
      ],
      "metadata": {
        "colab": {
          "base_uri": "https://localhost:8080/"
        },
        "id": "HRjop5xX4mVf",
        "outputId": "e737a4e8-3b3b-4999-ebe5-f87a89cfb4b6"
      },
      "execution_count": 15,
      "outputs": [
        {
          "output_type": "stream",
          "name": "stdout",
          "text": [
            "1\n",
            "2\n",
            "3\n",
            "4\n",
            "5\n"
          ]
        }
      ]
    },
    {
      "cell_type": "code",
      "source": [
        "some_list = [1,2,3,4,5]\n",
        "\n",
        "for i in some_list:\n",
        "  print(some_list[i-1])"
      ],
      "metadata": {
        "colab": {
          "base_uri": "https://localhost:8080/"
        },
        "id": "RZj4xELr4pbo",
        "outputId": "70819006-2475-4669-b5a6-5302a70ac38b"
      },
      "execution_count": 18,
      "outputs": [
        {
          "output_type": "stream",
          "name": "stdout",
          "text": [
            "1\n",
            "2\n",
            "3\n",
            "4\n",
            "5\n"
          ]
        }
      ]
    },
    {
      "cell_type": "code",
      "source": [
        "for s in 'abcde':\n",
        "  print(s)\n",
        "for l in ['a','b','c','d','e']:\n",
        "  print(l)"
      ],
      "metadata": {
        "colab": {
          "base_uri": "https://localhost:8080/"
        },
        "id": "1QyvShIf4wRE",
        "outputId": "a32a3dea-8c73-4c28-bd5f-234ff2af67a6"
      },
      "execution_count": 23,
      "outputs": [
        {
          "output_type": "stream",
          "name": "stdout",
          "text": [
            "a\n",
            "b\n",
            "c\n",
            "d\n",
            "e\n",
            "a\n",
            "b\n",
            "c\n",
            "d\n",
            "e\n"
          ]
        }
      ]
    },
    {
      "cell_type": "code",
      "source": [
        "for i in range(5):\n",
        "  print(str(i) + '回目の繰り返し')"
      ],
      "metadata": {
        "colab": {
          "base_uri": "https://localhost:8080/"
        },
        "id": "MJWm7z1Q5f76",
        "outputId": "d4e61913-690f-47c6-f527-23ec73ca5788"
      },
      "execution_count": 27,
      "outputs": [
        {
          "output_type": "stream",
          "name": "stdout",
          "text": [
            "0回目の繰り返し\n",
            "1回目の繰り返し\n",
            "2回目の繰り返し\n",
            "3回目の繰り返し\n",
            "4回目の繰り返し\n"
          ]
        }
      ]
    },
    {
      "cell_type": "code",
      "source": [
        "d = {'x':100,'y':200}\n",
        "\n",
        "for v in d:\n",
        "  print(v)"
      ],
      "metadata": {
        "colab": {
          "base_uri": "https://localhost:8080/"
        },
        "id": "ZrlY7JF96BfA",
        "outputId": "5706d925-1f48-4408-fa31-9ecbe715934c"
      },
      "execution_count": 28,
      "outputs": [
        {
          "output_type": "stream",
          "name": "stdout",
          "text": [
            "x\n",
            "y\n"
          ]
        }
      ]
    },
    {
      "cell_type": "code",
      "source": [
        "d = {'x':100,'y':200}\n",
        "\n",
        "for k, v in d.items():\n",
        "  print(k, v)"
      ],
      "metadata": {
        "colab": {
          "base_uri": "https://localhost:8080/"
        },
        "id": "Iet0H9q37T_p",
        "outputId": "3c5e0190-761d-479a-c32f-32bd8d89a9e8"
      },
      "execution_count": 29,
      "outputs": [
        {
          "output_type": "stream",
          "name": "stdout",
          "text": [
            "x 100\n",
            "y 200\n"
          ]
        }
      ]
    },
    {
      "cell_type": "code",
      "source": [
        "for i, l in enumerate(['a','b','c','d','e']):\n",
        "  print(i, l)"
      ],
      "metadata": {
        "colab": {
          "base_uri": "https://localhost:8080/"
        },
        "id": "bfg8sfKk7cej",
        "outputId": "40205fab-46e5-499d-a904-d4e868a207f6"
      },
      "execution_count": 30,
      "outputs": [
        {
          "output_type": "stream",
          "name": "stdout",
          "text": [
            "0 a\n",
            "1 b\n",
            "2 c\n",
            "3 d\n",
            "4 e\n"
          ]
        }
      ]
    },
    {
      "cell_type": "code",
      "source": [],
      "metadata": {
        "id": "II3IJru07sIR"
      },
      "execution_count": null,
      "outputs": []
    }
  ]
}